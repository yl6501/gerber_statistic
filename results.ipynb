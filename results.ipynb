{
 "cells": [
  {
   "cell_type": "code",
   "execution_count": 18,
   "id": "96044651-b4eb-4d18-bf66-899bc4f627dc",
   "metadata": {},
   "outputs": [],
   "source": [
    "import numpy as np\n",
    "import pandas as pd\n",
    "from scipy import stats"
   ]
  },
  {
   "cell_type": "code",
   "execution_count": 19,
   "id": "0a67c38a-a95e-41f1-9e2c-ae5d2073c1e2",
   "metadata": {},
   "outputs": [],
   "source": [
    "def gerber(c, arr1, arr2):#c is weight\n",
    "    t1 = c*np.std(arr1)\n",
    "    t2 = c*np.std(arr2)\n",
    "    concordant = 0\n",
    "    discordant = 0\n",
    "    for i in arr1:\n",
    "        for j in arr2:\n",
    "            if i >= t1 and j >= t2:\n",
    "                concordant += 1\n",
    "            elif i <= -t1 and j <= -t2:\n",
    "                concordant += 1\n",
    "            elif i >= t1 and j <= -t2:\n",
    "                discordant -= 1\n",
    "            elif i <= -t1 and j >= t2:\n",
    "                discordant -= 1\n",
    "    return (concordant + discordant)/(concordant - discordant)"
   ]
  },
  {
   "cell_type": "code",
   "execution_count": 20,
   "id": "45524c5e-a3a8-4d3b-baeb-080791706876",
   "metadata": {},
   "outputs": [
    {
     "name": "stdout",
     "output_type": "stream",
     "text": [
      "<function gerber at 0x000002B8138A5820>\n",
      "             pearson  spearman    gerber\n",
      "date                                    \n",
      "2010-02-01  0.013792  0.067757  0.604309\n",
      "2010-03-01  0.049657  0.097754  0.487864\n",
      "2010-04-01  0.014452  0.031213 -0.614457\n",
      "2010-04-30  0.048020  0.073695  0.386114\n",
      "2010-06-01  0.131904  0.151445 -0.647024\n",
      "...              ...       ...       ...\n",
      "2021-07-01  0.089702  0.090725 -0.017525\n",
      "2021-07-30 -0.028056 -0.021639  0.392218\n",
      "2021-09-01  0.060743  0.024301 -0.269868\n",
      "2021-09-30 -0.098785 -0.077467 -0.283931\n",
      "2021-11-01 -0.038375 -0.039894  0.490467\n",
      "\n",
      "[142 rows x 3 columns]\n"
     ]
    }
   ],
   "source": [
    "csv_path = '.\\\\NN4.csv'\n",
    "\n",
    "c = 0.5\n",
    "\n",
    "results = pd.read_csv(csv_path,index_col=0)\n",
    "df = pd.DataFrame(columns=['pearson','spearman','gerber'])\n",
    "gb = results.groupby(by = 'date')\n",
    "pearson = gb.apply(lambda df: np.corrcoef(df['ret'], df['pred_ret'])[0][1])\n",
    "spearman = gb.apply(lambda df: stats.spearmanr(df['ret'], df['pred_ret'])[0])\n",
    "gerber_cor = gb.apply(lambda df: gerber(c, df['ret'], df['pred_ret']))\n",
    "print(gerber)\n",
    "df['pearson'] = pearson\n",
    "df['spearman'] = spearman\n",
    "df['gerber'] = gerber_cor\n",
    "df.to_csv('.\\\\measures.csv')\n",
    "print(df)\n"
   ]
  },
  {
   "cell_type": "code",
   "execution_count": 21,
   "id": "b0dc7c50-46e7-455e-a51e-7bb681da7728",
   "metadata": {},
   "outputs": [
    {
     "data": {
      "text/plain": [
       "' 接下来我们验证我们的gerber method确实按照是公众号文章里面的计算方式计算的\\n我们generate两组长度为10000的N(0,1)变量，按照文章中的计算方式，这两组的变量的gerber correlation在parameter的任何取值情况下都应该是0\\n'"
      ]
     },
     "execution_count": 21,
     "metadata": {},
     "output_type": "execute_result"
    }
   ],
   "source": [
    "\"\"\" 接下来我们验证我们的gerber method确实按照是公众号文章里面的计算方式计算的\n",
    "我们generate两组长度为10000的N(0,1)变量，按照文章中的计算方式，这两组的变量的gerber correlation在parameter的任何取值情况下都应该是0\n",
    "\"\"\"\n"
   ]
  },
  {
   "cell_type": "code",
   "execution_count": 29,
   "id": "03b1ca3e-475f-408d-aeb9-ef09db1d3215",
   "metadata": {},
   "outputs": [],
   "source": [
    "def gerber(c, arr1, arr2):#c is weight\n",
    "    t1 = c*np.std(arr1)\n",
    "    t2 = c*np.std(arr2)\n",
    "    concordant = 0\n",
    "    discordant = 0\n",
    "    print(t1,t2)\n",
    "    for i in arr1:\n",
    "        for j in arr2:\n",
    "            if i >= t1 and j >= t2:\n",
    "                concordant += 1\n",
    "            elif i <= -t1 and j <= -t2:\n",
    "                concordant += 1\n",
    "            elif i >= t1 and j <= -t2:\n",
    "                discordant -= 1\n",
    "            elif i <= -t1 and j >= t2:\n",
    "                discordant -= 1\n",
    "    print(concordant, discordant)\n",
    "    return (concordant + discordant)/(concordant - discordant)"
   ]
  },
  {
   "cell_type": "code",
   "execution_count": 22,
   "id": "e1876a00-7a6b-4c82-974a-0658c6b79664",
   "metadata": {},
   "outputs": [
    {
     "name": "stdout",
     "output_type": "stream",
     "text": [
      "0.0 6.614576780297087e-05 8.022661952318922e-05 0.00012850390054689395 9.460697469791817e-05\n"
     ]
    }
   ],
   "source": [
    "\n",
    "x = np.random.normal(0,1,(2,10000))\n",
    "\n",
    "gerber0 = gerber(0, x[0], x[1])\n",
    "gerber1 = gerber(0.2, x[0], x[1])\n",
    "gerber2 = gerber(0.4, x[0], x[1])\n",
    "gerber3 = gerber(0.5, x[0], x[1])\n",
    "gerber4 = gerber(0.7, x[0], x[1])\n",
    "\n",
    "print(gerber0,gerber1,gerber2,gerber3,gerber4)"
   ]
  },
  {
   "cell_type": "code",
   "execution_count": 34,
   "id": "0a9c44a9-6d68-419a-a280-738f43b4b708",
   "metadata": {},
   "outputs": [
    {
     "data": {
      "text/plain": [
       "' \\n我们接着在(2,2)处generate两组长度为10000的N(0,1)变量，按照文章中的计算方式，这两组的变量的gerber correlation在parameter小于2时也都应该是1: 2和-x之间有四个标准差的距离\\n'"
      ]
     },
     "execution_count": 34,
     "metadata": {},
     "output_type": "execute_result"
    }
   ],
   "source": [
    "\"\"\" \n",
    "我们接着在(2,2)处generate两组长度为10000的N(0,1)变量，按照文章中的计算方式，这两组的变量的gerber correlation在0处取得最小值，当parameter大于0时，discordant的数量会显著下降。（discordant的threshold离(2,2)的距离越来越远）\n",
    "\"\"\"\n"
   ]
  },
  {
   "cell_type": "code",
   "execution_count": 35,
   "id": "75906a8c-f1fb-40a6-bcf9-6ea2c030abbf",
   "metadata": {},
   "outputs": [
    {
     "name": "stdout",
     "output_type": "stream",
     "text": [
      "0.0 0.0\n",
      "95582150 -4417850\n",
      "0.9909708349054103 0.9967470527458253\n",
      "71208440 -227864\n",
      "1.8828445863202794 1.893819400217068\n",
      "30063189 -5473\n",
      "2.0810387533013617 2.093168810766233\n",
      "22406022 -4733\n",
      "0.911643 0.9936204986193015 0.9996359665089188 0.9995776135163674\n"
     ]
    }
   ],
   "source": [
    "x = np.random.normal(0,1,(2,10000))\n",
    "x += np.array([[2],[2]])\n",
    "\n",
    "gerber0 = gerber(0, x[0], x[1])\n",
    "gerber1 = gerber(1, x[0], x[1])\n",
    "gerber2 = gerber(1.9, x[0], x[1])\n",
    "gerber3 = gerber(2.1, x[0], x[1])\n",
    "\n",
    "\n",
    "print(gerber0,gerber1,gerber2,gerber3)"
   ]
  },
  {
   "cell_type": "code",
   "execution_count": 36,
   "id": "3bf093c5-3552-4d58-bc84-88604b9a70d2",
   "metadata": {},
   "outputs": [
    {
     "data": {
      "text/plain": [
       "' \\n为了得到一组gerber corr不为正负1的vector pair, 我们在(1,1)处generate两组长度为10000的N(0,1)变量，按照文章中的计算方式，这两组的变量的gerber correlation在parameter大于1时也都应该靠近1：2和-x, where x>1之间有大于2个标准差的距离，这会导致没有discordant\\n\\n'"
      ]
     },
     "execution_count": 36,
     "metadata": {},
     "output_type": "execute_result"
    }
   ],
   "source": [
    "\"\"\" \n",
    "为了得到一组gerber corr不为正负1的vector pair, 我们在(1,1)处generate两组长度为10000的N(0,1)变量，按照文章中的计算方式，这两组的变量的gerber correlation在parameter大于1时也都应该靠近1：2和-x, where x>1之间有大于2个标准差的距离，这会导致没有discordant\n",
    "\n",
    "\"\"\"\n"
   ]
  },
  {
   "cell_type": "code",
   "execution_count": 31,
   "id": "db7fc46a-42db-4d04-af5f-70dc4302a530",
   "metadata": {},
   "outputs": [
    {
     "name": "stdout",
     "output_type": "stream",
     "text": [
      "0.0 0.0\n",
      "73419590 -26580410\n",
      "1.0143274394741246 1.0052128063005241\n",
      "24882564 -2391810\n",
      "3.042982318422374 3.015638418901572\n",
      "50370 0\n",
      "0.4683918 0.8246111899763492 1.0\n"
     ]
    }
   ],
   "source": [
    "x = np.random.normal(0,1,(2,10000))\n",
    "x += np.array([[1],[1]])\n",
    "\n",
    "gerber0 = gerber(0, x[0], x[1])\n",
    "gerber1 = gerber(1, x[0], x[1])\n",
    "gerber2 = gerber(3, x[0], x[1])\n",
    "\n",
    "\n",
    "print(gerber0,gerber1,gerber2)"
   ]
  },
  {
   "cell_type": "code",
   "execution_count": null,
   "id": "ffc7e0b8-c8ce-4145-a8a5-0935bace2ae8",
   "metadata": {},
   "outputs": [],
   "source": []
  }
 ],
 "metadata": {
  "kernelspec": {
   "display_name": "Python 3 (ipykernel)",
   "language": "python",
   "name": "python3"
  },
  "language_info": {
   "codemirror_mode": {
    "name": "ipython",
    "version": 3
   },
   "file_extension": ".py",
   "mimetype": "text/x-python",
   "name": "python",
   "nbconvert_exporter": "python",
   "pygments_lexer": "ipython3",
   "version": "3.9.7"
  }
 },
 "nbformat": 4,
 "nbformat_minor": 5
}
